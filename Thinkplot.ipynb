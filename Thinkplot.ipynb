{
 "cells": [
  {
   "cell_type": "code",
   "execution_count": 3,
   "id": "bf1a8ad6-de97-4219-ba34-7dfcf2b9ff94",
   "metadata": {},
   "outputs": [
    {
     "name": "stderr",
     "output_type": "stream",
     "text": [
      "WARNING: Ignoring invalid distribution -rotobuf (c:\\users\\excell  computers\\anaconda3\\lib\\site-packages)\n",
      "ERROR: Could not find a version that satisfies the requirement thinkstats (from versions: none)\n",
      "ERROR: No matching distribution found for thinkstats\n",
      "\n",
      "[notice] A new release of pip is available: 23.3.2 -> 24.0\n",
      "[notice] To update, run: python.exe -m pip install --upgrade pip\n"
     ]
    }
   ],
   "source": [
    "!pip install thinkstats"
   ]
  },
  {
   "cell_type": "code",
   "execution_count": 4,
   "id": "c6405cae-2b43-441c-8f02-daf5046dcd82",
   "metadata": {},
   "outputs": [
    {
     "ename": "ModuleNotFoundError",
     "evalue": "No module named 'thinkstats2'",
     "output_type": "error",
     "traceback": [
      "\u001b[1;31m---------------------------------------------------------------------------\u001b[0m",
      "\u001b[1;31mModuleNotFoundError\u001b[0m                       Traceback (most recent call last)",
      "\u001b[1;32m~\\AppData\\Local\\Temp\\ipykernel_16276\\3692265390.py\u001b[0m in \u001b[0;36m<module>\u001b[1;34m\u001b[0m\n\u001b[1;32m----> 1\u001b[1;33m \u001b[1;32mimport\u001b[0m \u001b[0mthinkstats2\u001b[0m\u001b[1;33m\u001b[0m\u001b[1;33m\u001b[0m\u001b[0m\n\u001b[0m\u001b[0;32m      2\u001b[0m \u001b[1;32mimport\u001b[0m \u001b[0mthinkplot\u001b[0m\u001b[1;33m\u001b[0m\u001b[1;33m\u001b[0m\u001b[0m\n\u001b[0;32m      3\u001b[0m \u001b[1;33m\u001b[0m\u001b[0m\n\u001b[0;32m      4\u001b[0m \u001b[1;31m# Define your discrete outcomes and their probabilities\u001b[0m\u001b[1;33m\u001b[0m\u001b[1;33m\u001b[0m\u001b[0m\n\u001b[0;32m      5\u001b[0m \u001b[0moutcomes\u001b[0m \u001b[1;33m=\u001b[0m \u001b[1;33m[\u001b[0m\u001b[1;36m1\u001b[0m\u001b[1;33m,\u001b[0m \u001b[1;36m2\u001b[0m\u001b[1;33m,\u001b[0m \u001b[1;36m3\u001b[0m\u001b[1;33m,\u001b[0m \u001b[1;36m4\u001b[0m\u001b[1;33m,\u001b[0m \u001b[1;36m5\u001b[0m\u001b[1;33m,\u001b[0m \u001b[1;36m6\u001b[0m\u001b[1;33m]\u001b[0m\u001b[1;33m\u001b[0m\u001b[1;33m\u001b[0m\u001b[0m\n",
      "\u001b[1;31mModuleNotFoundError\u001b[0m: No module named 'thinkstats2'"
     ]
    }
   ],
   "source": [
    "import thinkstats2\n",
    "import thinkplot\n",
    "\n",
    "# Define your discrete outcomes and their probabilities\n",
    "outcomes = [1, 2, 3, 4, 5, 6]\n",
    "probabilities = [1/6, 1/6, 1/6, 1/6, 1/6, 1/6]\n",
    "\n",
    "# Create a PMF object\n",
    "pmf = thinkstats2.Pmf(dict(zip(outcomes, probabilities)))\n",
    "\n",
    "# Plot the PMF\n",
    "thinkplot.pmf(pmf, label='PMF')\n",
    "\n",
    "# Customize the plot\n",
    "thinkplot.show(xlabel='Outcomes', ylabel='Probabilities', title='Probability Mass Function (PMF)')\n"
   ]
  },
  {
   "cell_type": "code",
   "execution_count": null,
   "id": "58c0cc1e-37ba-420a-a68a-da3ac6a0045b",
   "metadata": {},
   "outputs": [],
   "source": []
  }
 ],
 "metadata": {
  "kernelspec": {
   "display_name": "Python 3 (ipykernel)",
   "language": "python",
   "name": "python3"
  },
  "language_info": {
   "codemirror_mode": {
    "name": "ipython",
    "version": 3
   },
   "file_extension": ".py",
   "mimetype": "text/x-python",
   "name": "python",
   "nbconvert_exporter": "python",
   "pygments_lexer": "ipython3",
   "version": "3.9.13"
  }
 },
 "nbformat": 4,
 "nbformat_minor": 5
}
